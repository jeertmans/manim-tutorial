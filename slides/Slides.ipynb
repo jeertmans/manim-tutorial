{
 "cells": [
  {
   "cell_type": "markdown",
   "id": "81d815d5",
   "metadata": {
    "slideshow": {
     "slide_type": "slide"
    }
   },
   "source": [
    "![Manim Tutorial Logo](images/logo.png)\n",
    "\n",
    "<center>\n",
    "    Olivier Leblanc and <href=\"https://eertmans.be/manim-tutorial\">Jérome Eertmans</href><br>\n",
    "    IEEE Student Branch, October 18th 2022\n",
    "</center>"
   ]
  },
  {
   "cell_type": "code",
   "execution_count": null,
   "id": "56296b93",
   "metadata": {
    "slideshow": {
     "slide_type": "skip"
    }
   },
   "outputs": [],
   "source": [
    "import numpy as np\n",
    "from IPython.display import display, HTML, Markdown as MD\n",
    "from manim import *\n",
    "\n",
    "\n",
    "config.media_width = \"100%\"\n",
    "config.verbosity = \"WARNING\"\n",
    "config.progress_bar = \"none\"\n",
    "# uncomment the following lines to speed-up the rendering process\n",
    "# config.quality = \"low_quality\"\n",
    "# config.frame_rate = 30"
   ]
  },
  {
   "cell_type": "code",
   "execution_count": null,
   "id": "a821dd7e",
   "metadata": {
    "slideshow": {
     "slide_type": "slide"
    }
   },
   "outputs": [],
   "source": [
    "%%manim ManimShowcase\n",
    "\n",
    "# Present examples are all taken from Manim Community Example Gallery,\n",
    "# from First Steps with Manim.ipynb,\n",
    "# and from https://slama.dev/manim/3d-and-the-other-graphs/\n",
    "\n",
    "\n",
    "class ContinuousMotion(Scene):\n",
    "    def construct(self):\n",
    "        func = lambda pos: np.sin(pos[0] / 2) * UR + np.cos(pos[1] / 2) * LEFT\n",
    "        stream_lines = StreamLines(func, stroke_width=2, max_anchors_per_line=30)\n",
    "        self.add(stream_lines)\n",
    "        stream_lines.start_animation(warm_up=False, flow_speed=1.5)\n",
    "        self.wait(stream_lines.virtual_time / stream_lines.flow_speed)\n",
    "\n",
    "\n",
    "class FollowingGraphCamera(MovingCameraScene):\n",
    "    def construct(self):\n",
    "        self.camera.frame.save_state()\n",
    "\n",
    "        # create the axes and the curve\n",
    "        ax = Axes(x_range=[-1, 10], y_range=[-1, 10])\n",
    "        graph = ax.plot(lambda x: np.sin(x), color=BLUE, x_range=[0, 3 * PI])\n",
    "\n",
    "        # create dots based on the graph\n",
    "        moving_dot = Dot(ax.i2gp(graph.t_min, graph), color=ORANGE)\n",
    "        dot_1 = Dot(ax.i2gp(graph.t_min, graph))\n",
    "        dot_2 = Dot(ax.i2gp(graph.t_max, graph))\n",
    "\n",
    "        self.add(ax, graph, dot_1, dot_2, moving_dot)\n",
    "        self.play(self.camera.frame.animate.scale(0.5).move_to(moving_dot))\n",
    "\n",
    "        def update_curve(mob):\n",
    "            mob.move_to(moving_dot.get_center())\n",
    "\n",
    "        self.camera.frame.add_updater(update_curve)\n",
    "        self.play(MoveAlongPath(moving_dot, graph, rate_func=linear))\n",
    "        self.camera.frame.remove_updater(update_curve)\n",
    "\n",
    "        self.play(Restore(self.camera.frame))\n",
    "\n",
    "\n",
    "class MovingAngle(Scene):\n",
    "    def construct(self):\n",
    "        rotation_center = LEFT\n",
    "\n",
    "        theta_tracker = ValueTracker(110)\n",
    "        line1 = Line(LEFT, RIGHT)\n",
    "        line_moving = Line(LEFT, RIGHT)\n",
    "        line_ref = line_moving.copy()\n",
    "        line_moving.rotate(\n",
    "            theta_tracker.get_value() * DEGREES, about_point=rotation_center\n",
    "        )\n",
    "        a = Angle(line1, line_moving, radius=0.5, other_angle=False)\n",
    "        tex = MathTex(r\"\\theta\").move_to(\n",
    "            Angle(\n",
    "                line1, line_moving, radius=0.5 + 3 * SMALL_BUFF, other_angle=False\n",
    "            ).point_from_proportion(0.5)\n",
    "        )\n",
    "\n",
    "        self.add(line1, line_moving, a, tex)\n",
    "        self.wait()\n",
    "\n",
    "        line_moving.add_updater(\n",
    "            lambda x: x.become(line_ref.copy()).rotate(\n",
    "                theta_tracker.get_value() * DEGREES, about_point=rotation_center\n",
    "            )\n",
    "        )\n",
    "\n",
    "        a.add_updater(\n",
    "            lambda x: x.become(Angle(line1, line_moving, radius=0.5, other_angle=False))\n",
    "        )\n",
    "        tex.add_updater(\n",
    "            lambda x: x.move_to(\n",
    "                Angle(\n",
    "                    line1, line_moving, radius=0.5 + 3 * SMALL_BUFF, other_angle=False\n",
    "                ).point_from_proportion(0.5)\n",
    "            )\n",
    "        )\n",
    "\n",
    "        self.play(theta_tracker.animate.set_value(40))\n",
    "        self.play(theta_tracker.animate.increment_value(140))\n",
    "        self.play(tex.animate.set_color(RED), run_time=0.5)\n",
    "        self.play(theta_tracker.animate.set_value(350))\n",
    "\n",
    "\n",
    "class PlotExample(Scene):\n",
    "    def construct(self):\n",
    "        plot_axes = Axes(\n",
    "            x_range=[0, 1, 0.05],\n",
    "            y_range=[0, 1, 0.05],\n",
    "            x_length=9,\n",
    "            y_length=5.5,\n",
    "            axis_config={\n",
    "                \"numbers_to_include\": np.arange(0, 1 + 0.1, 0.1),\n",
    "                \"font_size\": 24,\n",
    "            },\n",
    "            tips=False,\n",
    "        )\n",
    "\n",
    "        y_label = plot_axes.get_y_axis_label(\"y\", edge=LEFT, direction=LEFT, buff=0.4)\n",
    "        x_label = plot_axes.get_x_axis_label(\"x\")\n",
    "        plot_labels = VGroup(x_label, y_label)\n",
    "\n",
    "        plots = VGroup()\n",
    "        for n in np.arange(1, 20 + 0.5, 0.5):\n",
    "            plots += plot_axes.plot(lambda x: x**n, color=WHITE)\n",
    "            plots += plot_axes.plot(\n",
    "                lambda x: x ** (1 / n), color=WHITE, use_smoothing=False\n",
    "            )\n",
    "\n",
    "        extras = VGroup()\n",
    "        extras += plot_axes.get_horizontal_line(plot_axes.c2p(1, 1, 0), color=BLUE)\n",
    "        extras += plot_axes.get_vertical_line(plot_axes.c2p(1, 1, 0), color=BLUE)\n",
    "        extras += Dot(point=plot_axes.c2p(1, 1, 0), color=YELLOW)\n",
    "        title = Title(\n",
    "            r\"Graphs of $y=x^{\\frac{1}{n}}$ and $y=x^n (n=1, 1.5, 2, 2.5, 3, \\dots, 20)$\",\n",
    "            include_underline=False,\n",
    "            font_size=40,\n",
    "        )\n",
    "\n",
    "        self.play(Write(title))\n",
    "        self.play(Create(plot_axes), Create(plot_labels), Create(extras))\n",
    "        self.play(AnimationGroup(*[Create(plot) for plot in plots], lag_ratio=0.05))\n",
    "\n",
    "\n",
    "class PolygonOnAxes(Scene):\n",
    "    def get_rectangle_corners(self, bottom_left, top_right):\n",
    "        return [\n",
    "            (top_right[0], top_right[1]),\n",
    "            (bottom_left[0], top_right[1]),\n",
    "            (bottom_left[0], bottom_left[0]),\n",
    "            (top_right[0], bottom_left[0]),\n",
    "        ]\n",
    "\n",
    "    def construct(self):\n",
    "        ax = Axes(\n",
    "            x_range=[0, 10],\n",
    "            y_range=[0, 10],\n",
    "            x_length=6,\n",
    "            y_length=6,\n",
    "            axis_config={\"include_tip\": False},\n",
    "        )\n",
    "\n",
    "        t = ValueTracker(5)\n",
    "        k = 25\n",
    "\n",
    "        graph = ax.plot(\n",
    "            lambda x: k / x,\n",
    "            color=YELLOW_D,\n",
    "            x_range=[k / 10, 10.0, 0.01],\n",
    "            use_smoothing=False,\n",
    "        )\n",
    "\n",
    "        def get_rectangle():\n",
    "            polygon = Polygon(\n",
    "                *[\n",
    "                    ax.c2p(*i)\n",
    "                    for i in self.get_rectangle_corners(\n",
    "                        (0, 0), (t.get_value(), k / t.get_value())\n",
    "                    )\n",
    "                ]\n",
    "            )\n",
    "            polygon.stroke_width = 1\n",
    "            polygon.set_fill(BLUE, opacity=0.5)\n",
    "            polygon.set_stroke(YELLOW_B)\n",
    "            return polygon\n",
    "\n",
    "        polygon = always_redraw(get_rectangle)\n",
    "\n",
    "        dot = Dot()\n",
    "        dot.add_updater(lambda x: x.move_to(ax.c2p(t.get_value(), k / t.get_value())))\n",
    "        dot.set_z_index(10)\n",
    "\n",
    "        self.add(ax, graph, dot)\n",
    "        self.play(Create(polygon))\n",
    "        self.play(t.animate.set_value(10))\n",
    "        self.play(t.animate.set_value(k / 10))\n",
    "        self.play(t.animate.set_value(5))\n",
    "\n",
    "\n",
    "import networkx as nx\n",
    "\n",
    "nxgraph = nx.erdos_renyi_graph(14, 0.5)\n",
    "\n",
    "\n",
    "class ErdosRenyiGraph(Scene):\n",
    "    def construct(self):\n",
    "        G = Graph.from_networkx(nxgraph, layout=\"spring\", layout_scale=3.5)\n",
    "        self.play(Create(G))\n",
    "        self.play(\n",
    "            *[\n",
    "                G[v].animate.move_to(\n",
    "                    5 * RIGHT * np.cos(ind / 7 * PI) + 3 * UP * np.sin(ind / 7 * PI)\n",
    "                )\n",
    "                for ind, v in enumerate(G.vertices)\n",
    "            ]\n",
    "        )\n",
    "        self.play(Uncreate(G))\n",
    "\n",
    "\n",
    "class ThisWasManim(Scene):\n",
    "    def construct(self):\n",
    "        title = Tex(r\"This scene was created\")\n",
    "        basel = Tex(r\"with Manim\")\n",
    "        group = VGroup(title, basel).arrange(DOWN)\n",
    "        self.play(Write(title), run_time=1.5)\n",
    "        self.play(\n",
    "            FadeIn(basel, shift=DOWN),\n",
    "        )\n",
    "        self.wait()\n",
    "\n",
    "        banner_large = ManimBanner(dark_theme=True).scale(1)\n",
    "        self.play(FadeOut(group), banner_large.create())\n",
    "        self.play(banner_large.expand())\n",
    "        self.wait(5)\n",
    "\n",
    "\n",
    "import functools\n",
    "\n",
    "\n",
    "def concatenate(*scenes, wait_between_scenes=0, clear_between_scenes=True, audio=None):\n",
    "    def construct(self):\n",
    "        if audio:\n",
    "            self.add_sound(audio)\n",
    "        for scene in self.scenes:\n",
    "            scene.construct(self)\n",
    "\n",
    "            scene.wait(self, wait_between_scenes)\n",
    "\n",
    "            if clear_between_scenes:\n",
    "\n",
    "                scene.clear(self)\n",
    "\n",
    "    def wrapper(cls):\n",
    "        @functools.wraps(cls)\n",
    "        def __wrapper__(cls):\n",
    "            if len(scenes) > 1:\n",
    "                cls.__bases__ = scenes\n",
    "\n",
    "            cls.scenes = cls.__bases__\n",
    "            cls.construct = construct\n",
    "\n",
    "            return cls\n",
    "\n",
    "        return __wrapper__(cls)\n",
    "\n",
    "    if len(scenes) == 1:\n",
    "        return wrapper(scenes[0])\n",
    "\n",
    "    return wrapper\n",
    "\n",
    "\n",
    "@concatenate(audio=\"audio/showcase.mp3\")\n",
    "class ManimShowcase(\n",
    "    FollowingGraphCamera,\n",
    "    PlotExample,\n",
    "    MovingAngle,\n",
    "    PolygonOnAxes,\n",
    "    ErdosRenyiGraph,\n",
    "    ContinuousMotion,\n",
    "    ThisWasManim,\n",
    "):\n",
    "    pass\n",
    "\n",
    "\n",
    "display(\n",
    "    HTML(\n",
    "        '<center>Song: <i><a href=\"https://www.youtube.com/watch?v=eBasS6PqbMc&ab_channel=Savfk-Music\">\"Savfk - Instructions For Living A Life\"</a></i>, under a Creative Commons (CC BY 4.0) license.</center>'\n",
    "    )\n",
    ")"
   ]
  },
  {
   "cell_type": "markdown",
   "id": "cf41735f",
   "metadata": {
    "slideshow": {
     "slide_type": "slide"
    }
   },
   "source": [
    "# Table of Contents\n",
    "\n",
    "1. What is Manim?\n",
    "2. Manim vs ManimGL\n",
    "3. How and when to use Manim\n",
    "4. Additional tools"
   ]
  },
  {
   "cell_type": "markdown",
   "id": "7de5f9ff",
   "metadata": {
    "slideshow": {
     "slide_type": "slide"
    }
   },
   "source": [
    "# Foreword\n",
    "\n",
    "Slides, code and documentation are available in open source. See <a href=\"#/8\">last slide</a>."
   ]
  },
  {
   "cell_type": "markdown",
   "id": "0f7bb5f1",
   "metadata": {
    "slideshow": {
     "slide_type": "slide"
    }
   },
   "source": [
    "# 1. What is Manim?"
   ]
  },
  {
   "cell_type": "markdown",
   "id": "12015d7d",
   "metadata": {
    "slideshow": {
     "slide_type": "subslide"
    }
   },
   "source": [
    "![Grant Sanderson](images/grant.png)"
   ]
  },
  {
   "cell_type": "markdown",
   "id": "bf8f8e76",
   "metadata": {
    "slideshow": {
     "slide_type": "subslide"
    }
   },
   "source": [
    "<center>\n",
    "    <img alt=\"3Blue1Brown logo\" src=\"images/3B1B_logo.png\" width=\"500px\">\n",
    "</center>"
   ]
  },
  {
   "cell_type": "markdown",
   "id": "053339d7",
   "metadata": {
    "slideshow": {
     "slide_type": "subslide"
    }
   },
   "source": [
    "![3Blue1Brown channel](images/3B1B_channel.png)"
   ]
  },
  {
   "cell_type": "markdown",
   "id": "0bb1dd96",
   "metadata": {
    "slideshow": {
     "slide_type": "subslide"
    }
   },
   "source": [
    "# 1. What is Manim?\n",
    "\n",
    "To quote 3Blue1Brown:\n",
    "\n",
    "> Manim is an engine for precise programmatic animations, designed for creating explanatory math videos.\n",
    "\n",
    "<span class=\"fragment\">\n",
    "<p>Our definition:</p><span>\n",
    "\n",
    "> Manim is a Python tool that facilitates creating math-related videos. <!-- .element: class=\"fragment\" data-fragment-index=\"2\" -->"
   ]
  },
  {
   "cell_type": "markdown",
   "id": "a3c4aaa4",
   "metadata": {
    "slideshow": {
     "slide_type": "subslide"
    }
   },
   "source": [
    "## Did you just say Python?\n",
    "\n",
    "<span class=\"fragment semi-fade-out\" data-fragment-index=\"3\">\"<i>I don't know anything about Python</i>\"</span>\n",
    "<ul><li class=\"fragment fade-right fade-in-then-semi-out\" data-fragment-index=\"1\">One of the easiest programming languages to learn</li>\n",
    "<li class=\"fragment fade-right fade-in-then-semi-out\" data-fragment-index=\"2\">Many examples to learn from</li></ul>\n",
    "\n",
    "<span class=\"fragment\" data-fragment-index=\"3\"><span class=\"fragment semi-fade-out\" data-fragment-index=\"5\">\"<i>I don't like programming</i>\"</span></span>\n",
    "<ul><li class=\"fragment fade-right fade-in-then-semi-out\" data-fragment-index=\"4\">Creating animation requires very basic programming knowledge</li></ul>\n",
    "\n",
    "<span class=\"fragment\" data-fragment-index=\"5\"><span class=\"fragment semi-fade-out\" data-fragment-index=\"7\">\"<i>I usually run into troubles when installing Python modules</i>\"</span></span>\n",
    "<ul><li class=\"fragment fade-right fade-in-then-semi-out\" data-fragment-index=\"6\">Manim works on Windows, macOS, and Linux. Its installation is relatively easy and well documented</li></ul>"
   ]
  },
  {
   "cell_type": "markdown",
   "id": "017ae286",
   "metadata": {
    "slideshow": {
     "slide_type": "subslide"
    }
   },
   "source": [
    "### Manim's ABC\n",
    "\n",
    "### A. Create a file with scene(s)\n",
    "\n",
    "```python\n",
    "# scenes.py\n",
    "from manim import *\n",
    "\n",
    "class SquareToCircle(Scene):\n",
    "    def construct(self):\n",
    "        circle = Circle(color=RED)\n",
    "        square = Square()     \n",
    "\n",
    "        self.play(Create(square))\n",
    "        self.play(Transform(square, circle))\n",
    "        self.play(FadeOut(square))\n",
    "```\n",
    "\n",
    "<br>\n",
    "\n",
    "### B. Render the scene(s)\n",
    "\n",
    "```bash\n",
    "manim scenes.py SquareToCircle\n",
    "```\n",
    "\n",
    "<br>\n",
    "\n",
    "### C. Watch the video!"
   ]
  },
  {
   "cell_type": "code",
   "execution_count": null,
   "id": "d66e43b7",
   "metadata": {
    "slideshow": {
     "slide_type": "subslide"
    }
   },
   "outputs": [],
   "source": [
    "%%manim SquareToCircle\n",
    "\n",
    "\n",
    "class SquareToCircle(Scene):\n",
    "    def construct(self):\n",
    "        circle = Circle(color=RED)\n",
    "        square = Square()\n",
    "\n",
    "        self.play(Create(square))\n",
    "        self.play(Transform(square, circle))\n",
    "        self.play(FadeOut(square))"
   ]
  },
  {
   "cell_type": "markdown",
   "id": "6e320c1d",
   "metadata": {
    "slideshow": {
     "slide_type": "subslide"
    }
   },
   "source": [
    "## Motivation\n",
    "\n",
    "In a few lines of code, Manim can create nice and precise animations, facilitating scientific communication.\n",
    "\n",
    "* If a picture is worth a thousand words, what about a video?\n",
    "* Not limited to pure mathematics"
   ]
  },
  {
   "cell_type": "markdown",
   "id": "dd446299",
   "metadata": {
    "slideshow": {
     "slide_type": "subslide"
    }
   },
   "source": [
    "## Motivation: example\n",
    "\n",
    "How to explain the Newton-Raphson iteration scheme, used to find a root some function $f$?\n",
    "\n",
    "$$ x_{k+1} = x_{k} - \\frac{f(x_k)}{f'(x_k)} $$"
   ]
  },
  {
   "cell_type": "code",
   "execution_count": null,
   "id": "bb430e5d",
   "metadata": {
    "slideshow": {
     "slide_type": "subslide"
    }
   },
   "outputs": [],
   "source": [
    "%%manim RootExample\n",
    "\n",
    "\n",
    "class RootExample(Scene):\n",
    "    def construct(self):\n",
    "        ax = Axes(\n",
    "            x_range=[0, 15],\n",
    "            y_range=[-2, 6],\n",
    "            x_length=12,\n",
    "            y_length=6,\n",
    "            axis_config={\"include_tip\": False},\n",
    "        )\n",
    "        labels = ax.get_axis_labels(x_label=\"x\", y_label=\"f(x)\")\n",
    "\n",
    "        def f(x):\n",
    "            return -0.0886 * x**3 + 0.9936 * x**2 - 3.6885 * x + 4.7836\n",
    "\n",
    "        def df(x):\n",
    "            return -0.2659 * x**2 + 1.9872 * x - 3.6885\n",
    "\n",
    "        def fdx(x):\n",
    "            return -f(x) / df(x)\n",
    "\n",
    "        def angle(x):\n",
    "            dydx = df(x)\n",
    "            angle = np.arctan(dydx)\n",
    "            return angle\n",
    "\n",
    "        graph = ax.plot(f, color=MAROON)\n",
    "\n",
    "        x = 2\n",
    "        t = ValueTracker(x)\n",
    "\n",
    "        initial_point = [ax.coords_to_point(x, f(x))]\n",
    "        dot = Dot(point=initial_point)\n",
    "\n",
    "        def make_tangent(line, x):\n",
    "            line.move_to(dot)\n",
    "            line.set_angle(angle(x), about_point=line.get_center())\n",
    "            return line\n",
    "\n",
    "        fraction = always_redraw(\n",
    "            lambda: VGroup(\n",
    "                MathTex(\n",
    "                    r\"\\Delta x = -\\frac{f(x)}{f'(x)}=-\\frac{\"\n",
    "                    + f\"{f(t.get_value()):.2f}\"\n",
    "                    + r\"}{\"\n",
    "                    + f\"{df(t.get_value()):.2f}\"\n",
    "                    + r\"}=\"\n",
    "                ),\n",
    "                MathTex(f\"{fdx(t.get_value()):.2f}\"),\n",
    "            )\n",
    "            .arrange(RIGHT)\n",
    "            .to_corner(UR)\n",
    "        )\n",
    "\n",
    "        tangent = make_tangent(Line(ORIGIN, RIGHT, color=BLUE), t.get_value())\n",
    "\n",
    "        dot.add_updater(lambda x: x.move_to(ax.c2p(t.get_value(), f(t.get_value()))))\n",
    "        tangent.add_updater(lambda x: make_tangent(x, t.get_value()))\n",
    "\n",
    "        dot.set_z_index(tangent.z_index + 1)\n",
    "\n",
    "        self.add(ax, labels, graph, dot)\n",
    "        self.play(Create(tangent))\n",
    "        self.play(Write(fraction))\n",
    "\n",
    "        self.wait()\n",
    "\n",
    "        direction = Arrow(\n",
    "            max_stroke_width_to_length_ratio=50,\n",
    "            max_tip_length_to_length_ratio=0.15,\n",
    "            color=GOLD,\n",
    "        )\n",
    "\n",
    "        while abs(f(x)) > 1e-6:\n",
    "            dx = -f(x) / df(x)\n",
    "            y = f(x)\n",
    "            x += dx\n",
    "\n",
    "            dest = ax.c2p(x, y)\n",
    "            direction.put_start_and_end_on(dot.get_center(), dest)\n",
    "            self.play(Create(direction))\n",
    "            self.play(AnimationGroup(t.animate.set_value(x), FadeOut(direction)))\n",
    "\n",
    "        self.wait(5)"
   ]
  },
  {
   "cell_type": "markdown",
   "id": "b22447aa",
   "metadata": {
    "slideshow": {
     "slide_type": "slide"
    }
   },
   "source": [
    "# 2. Manim vs ManimGL"
   ]
  },
  {
   "cell_type": "markdown",
   "id": "a2865175",
   "metadata": {
    "slideshow": {
     "slide_type": "subslide"
    }
   },
   "source": [
    "![Manim Google Search Results](images/manim-google.png)"
   ]
  },
  {
   "cell_type": "markdown",
   "id": "733d4415",
   "metadata": {
    "slideshow": {
     "slide_type": "subslide"
    }
   },
   "source": [
    "## A bit of History\n",
    "\n",
    "* **March 2015:** <a href=\"https://www.youtube.com/watch?v=F_0yfvm0UoU&ab_channel=3Blue1Brown\">first video</a> by 3b1b, already using Manim\n",
    "* **August 2018:** 3b1b announced in <a href=\"https://www.youtube.com/watch?v=Qe6o9j4IjTo&ab_channel=3Blue1Brown\">a FAQ</a> the existence of Manim\n",
    "* **November 2019:** <a href=\"https://github.com/3b1b/manim\">3b1b/manim</a> is made publicly available\n",
    "* **May 2020:** <a href=\"https://github.com/ManimCommunity/manim\">ManimCommunity/manim</a> fork is created"
   ]
  },
  {
   "cell_type": "markdown",
   "id": "d4743814",
   "metadata": {
    "slideshow": {
     "slide_type": "subslide"
    }
   },
   "source": [
    "## Manim 3Blue1Brown Edition\n",
    "\n",
    "![Manim GL Website](images/manim-3b1b-website.png)\n",
    "\n",
    "**Goal:**\n",
    "\n",
    "* match 3b1b's needs (at a given time)"
   ]
  },
  {
   "cell_type": "markdown",
   "id": "58c10e10",
   "metadata": {
    "slideshow": {
     "slide_type": "subslide"
    }
   },
   "source": [
    "## Manim Community Edition\n",
    "\n",
    "![Manim Comunity Website](images/manim-community-website.png)\n",
    "\n",
    "**Goals:**\n",
    "\n",
    "* easier to use\n",
    "* more stable over time\n",
    "* well documented\n",
    "* community driven"
   ]
  },
  {
   "cell_type": "markdown",
   "id": "26acc2a5",
   "metadata": {
    "slideshow": {
     "slide_type": "subslide"
    }
   },
   "source": [
    "## Comparison\n",
    "\n",
    "<br>\n",
    "<br>\n",
    "\n",
    "<table>\n",
    "    <tr style=\"background-color: #fff;\">\n",
    "        <th></th>\n",
    "        <th><center>Manim 3Blue1Brown</center></th>\n",
    "        <th><center>Manim Community</center></th>\n",
    "    </tr>\n",
    "    <tr>\n",
    "        <td><center>Short name</center></td>\n",
    "        <td><center>ManimGL</center></td>\n",
    "        <td><center>Manim (or ManimCE)</center></td>\n",
    "    </tr>\n",
    "    <tr>\n",
    "        <td><center>Command name</center></td>\n",
    "        <td><center><code>manimgl</code></center></td>\n",
    "        <td><center><code>manim</code></center></td>\n",
    "    </tr>\n",
    "    <tr>\n",
    "        <td>Python module</td>\n",
    "        <td><center><a href=\"https://pypi.org/project/manimgl/\"> manimlib</a></center></td>\n",
    "        <td><center><a href=\"https://pypi.org/project/manim/\">manim</a></center></td>\n",
    "    </tr>\n",
    "</table>"
   ]
  },
  {
   "cell_type": "markdown",
   "id": "8d601ccd",
   "metadata": {
    "slideshow": {
     "slide_type": "subslide"
    }
   },
   "source": [
    "## What to choose\n",
    "\n",
    "<span class=\"fragment\">\n",
    "<p><strong>Reasons to prefer Manim:</strong></p>\n",
    "\n",
    "<ul>\n",
    "<li>Easier cross-platform installation.</li>\n",
    "<li>Does not require installing OpenGL.</li>\n",
    "<li>Maintained by the community. Hence, more stable accross time, meaning that your recently created code is more likely to still work in 2 years with Manim than with ManimGL.</li>\n",
    "<li>Very good documentation, see <a href=\"https://www.manim.community/\">here</a>.</li>\n",
    "</ul>\n",
    "</span>\n",
    "\n",
    "<span class=\"fragment\">\n",
    "<p><strong>Reasons to prefer ManimGL:</strong></p>\n",
    "\n",
    "<ul>\n",
    "<li>You want to reproduce some of 3b1b's videos, available on <a href=\"https://github.com/3b1b/videos\">GitHub</a>.</li>\n",
    "<li>You need features that are (currently) only available with ManimGL.</li>\n",
    "</ul>\n",
    "</span>"
   ]
  },
  {
   "cell_type": "markdown",
   "id": "c3180222",
   "metadata": {
    "slideshow": {
     "slide_type": "slide"
    }
   },
   "source": [
    "# 3. How and when to use Manim"
   ]
  },
  {
   "cell_type": "markdown",
   "id": "1428d06c",
   "metadata": {
    "slideshow": {
     "slide_type": "subslide"
    }
   },
   "source": [
    "## Prerequisites\n",
    "\n",
    "* Python >= 3.8 installed\n",
    "* Basic knowledge in Python, git, $\\LaTeX$ and command line\n",
    "\n",
    "See [GitHub README](https://github.com/jeertmans/manim-tutorial#prerequisites)."
   ]
  },
  {
   "cell_type": "markdown",
   "id": "b13bee5d",
   "metadata": {
    "slideshow": {
     "slide_type": "subslide"
    }
   },
   "source": [
    "## Installation\n",
    "\n",
    "\n",
    "<table width=\"100%\">\n",
    "<tr style=\"background-color: #fff;\">\n",
    "<td style=\"text-align:left;vertical-align:top;padding:0\">\n",
    "Follow the guide, e.g., for Manim:\n",
    "<div class=\"toctree-wrapper compound\">\n",
    "<ul>\n",
    "<li class=\"toctree-l1\"><a class=\"reference internal\" href=\"https://docs.manim.community/en/stable/installation/windows.html\">Windows</a><ul>\n",
    "<li class=\"toctree-l2\"><a class=\"reference internal\" href=\"https://docs.manim.community/en/stable/installation/windows.html#required-dependencies\">Required Dependencies</a></li>\n",
    "<li class=\"toctree-l2\"><a class=\"reference internal\" href=\"https://docs.manim.community/en/stable/installation/windows.html#optional-dependencies\">Optional Dependencies</a></li>\n",
    "<li class=\"toctree-l2\"><a class=\"reference internal\" href=\"https://docs.manim.community/en/stable/installation/windows.html#working-with-manim\">Working with Manim</a></li>\n",
    "</ul>\n",
    "</li>\n",
    "<li class=\"toctree-l1\"><a class=\"reference internal\" href=\"https://docs.manim.community/en/stable/installation/macos.html\">MacOS</a><ul>\n",
    "<li class=\"toctree-l2\"><a class=\"reference internal\" href=\"https://docs.manim.community/en/stable/installation/macos.html#required-dependencies\">Required Dependencies</a></li>\n",
    "<li class=\"toctree-l2\"><a class=\"reference internal\" href=\"https://docs.manim.community/en/stable/installation/macos.html#optional-dependencies\">Optional Dependencies</a></li>\n",
    "<li class=\"toctree-l2\"><a class=\"reference internal\" href=\"https://docs.manim.community/en/stable/installation/macos.html#working-with-manim\">Working with Manim</a></li>\n",
    "</ul>\n",
    "</li>\n",
    "<li class=\"toctree-l1\"><a class=\"reference internal\" href=\"https://docs.manim.community/en/stable/installation/linux.html\">Linux</a><ul>\n",
    "<li class=\"toctree-l2\"><a class=\"reference internal\" href=\"https://docs.manim.community/en/stable/installation/linux.html#required-dependencies\">Required Dependencies</a></li>\n",
    "<li class=\"toctree-l2\"><a class=\"reference internal\" href=\"https://docs.manim.community/en/stable/installation/linux.html#optional-dependencies\">Optional Dependencies</a></li>\n",
    "</ul>\n",
    "</li>\n",
    "</ul>\n",
    "</div>\n",
    "</td>\n",
    "<td style=\"text-align:center;vertical-align:top;padding:0\">\n",
    "<img alt=\"Linux Installation Guidelines\" width=\"800px\" src=\"images/linux-manim-installation.png\">\n",
    "</td>\n",
    "</tr>\n",
    "</table>"
   ]
  },
  {
   "cell_type": "markdown",
   "id": "e31c14c8",
   "metadata": {
    "slideshow": {
     "slide_type": "subslide"
    }
   },
   "source": [
    "## Creating a scene\n",
    "\n",
    "```python\n",
    "# myfile.py\n",
    "from mamim import *\n",
    "\n",
    "\n",
    "class MyScene(Scene):\n",
    "    def construct(self):\n",
    "        square = Square()\n",
    "\n",
    "        self.play(Create(square))\n",
    "        self.play(square.animate.rotate(90 * DEGREES))\n",
    "        self.play(square.animate.set_color(BLUE))\n",
    "        self.play(Circumscribe(square, Circle))\n",
    "        self.play(Uncreate(square))\n",
    "```\n"
   ]
  },
  {
   "cell_type": "markdown",
   "id": "0716c459",
   "metadata": {
    "slideshow": {
     "slide_type": "subslide"
    }
   },
   "source": [
    "## Rendering the scene\n",
    "\n",
    "From the [ManimCommunity/manim](https://github.com/ManimCommunity/manim) repository:\n",
    "\n",
    "![Manim Command Line's How To](https://raw.githubusercontent.com/ManimCommunity/manim/89bed0a9236bf4d740cde39df348448558d135fa/docs/source/_static/command.png)"
   ]
  },
  {
   "cell_type": "code",
   "execution_count": null,
   "id": "15b92318",
   "metadata": {
    "slideshow": {
     "slide_type": "subslide"
    }
   },
   "outputs": [],
   "source": [
    "%%manim MyScene\n",
    "\n",
    "\n",
    "class MyScene(Scene):\n",
    "    def construct(self):\n",
    "        square = Square()\n",
    "\n",
    "        self.play(Create(square))\n",
    "        self.play(square.animate.rotate(90 * DEGREES))\n",
    "        self.play(square.animate.set_color(BLUE))\n",
    "        self.play(Circumscribe(square, Circle))\n",
    "        self.play(Uncreate(square))"
   ]
  },
  {
   "cell_type": "code",
   "execution_count": null,
   "id": "d7b21971",
   "metadata": {
    "slideshow": {
     "slide_type": "subslide"
    }
   },
   "outputs": [],
   "source": [
    "display(\n",
    "    MD(\n",
    "        r\"\"\"## Not limited to rendering videos\n",
    "\n",
    "Additionally, Manim can render images (e.g., see <a href=\"#/0\">first slide</a>) or gif.\n",
    "\"\"\"\n",
    "    )\n",
    ")\n",
    "\n",
    "%manim --format=png -n 0,4 -s RootExample"
   ]
  },
  {
   "cell_type": "code",
   "execution_count": null,
   "id": "4c664528",
   "metadata": {
    "slideshow": {
     "slide_type": "skip"
    }
   },
   "outputs": [],
   "source": [
    "class Axes3DExample(ThreeDScene):\n",
    "    def construct(self):\n",
    "        axes = ThreeDAxes()\n",
    "\n",
    "        x_label = axes.get_x_axis_label(Tex(\"x\"))\n",
    "        y_label = axes.get_y_axis_label(Tex(\"y\")).shift(UP * 1.8)\n",
    "\n",
    "        # 3D variant of the Dot() object\n",
    "        dot = Dot3D()\n",
    "\n",
    "        # zoom out so we see the axes\n",
    "        self.set_camera_orientation(zoom=0.5)\n",
    "\n",
    "        self.add(axes, dot, x_label, y_label)\n",
    "\n",
    "        self.wait(0.5)\n",
    "\n",
    "        # animate the move of the camera to properly see the axes\n",
    "        self.move_camera(\n",
    "            phi=75 * DEGREES, theta=30 * DEGREES, zoom=1, run_time=1.5\n",
    "        )\n",
    "\n",
    "        # built-in updater which begins camera rotation\n",
    "        self.begin_ambient_camera_rotation(rate=0.15)\n",
    "\n",
    "        # one dot for each direction\n",
    "        upDot = dot.copy().set_color(RED)\n",
    "        rightDot = dot.copy().set_color(BLUE)\n",
    "        outDot = dot.copy().set_color(GREEN)\n",
    "\n",
    "        dots = VGroup(upDot, rightDot, outDot)\n",
    "\n",
    "        self.play(\n",
    "            upDot.animate.shift(UP),\n",
    "            rightDot.animate.shift(RIGHT),\n",
    "            outDot.animate.shift(OUT),\n",
    "        )\n",
    "\n",
    "        self.move_camera(\n",
    "            phi=75 * DEGREES, theta=180 * DEGREES, zoom=2, run_time=1\n",
    "        )\n",
    "\n",
    "        cube = Cube()\n",
    "\n",
    "        self.play(Write(cube), Indicate(dots))\n",
    "\n",
    "        self.play(\n",
    "            Unwrite(cube),\n",
    "            Uncreate(axes),\n",
    "            FadeOut(dot, dots, x_label, y_label),\n",
    "        )\n",
    "        self.wait(2.5)"
   ]
  },
  {
   "cell_type": "code",
   "execution_count": null,
   "id": "b929c32b",
   "metadata": {
    "slideshow": {
     "slide_type": "subslide"
    }
   },
   "outputs": [],
   "source": [
    "display(MD(r\"\"\"## It can also render 3D videos!\"\"\"))\n",
    "\n",
    "%manim Axes3DExample"
   ]
  },
  {
   "cell_type": "markdown",
   "id": "44376bed",
   "metadata": {
    "slideshow": {
     "slide_type": "subslide"
    }
   },
   "source": [
    "## Then, what's next?\n",
    "\n",
    "Create more advanced animation, and get inspiration from others, see:\n",
    "\n",
    "* [Made with Manim](https://www.manim.community/awesome/), a collection of content creators utilizing the power of Manim\n",
    "* [Reducible](https://www.youtube.com/c/Reducible), a YouTuber that utilizes Manim for its videos <br>![YouTube Channel Subscribers](https://img.shields.io/youtube/channel/subscribers/UCK8XIGR5kRidIw2fWqwyHRA?style=social)\n",
    "* Summer of Math Exposition [#SoME2](https://www.youtube.com/hashtag/some2) Youtube hashtag, few hundreds of videos using Manim\n",
    "* the Manim subreddit for questions and inspirations <br><a href=\"https://www.reddit.com/r/manim/\"><img src=\"https://img.shields.io/reddit/subreddit-subscribers/manim?style=social\" alt=\"Manim Subreddit\"></a>\n",
    "* the Manim Community discord for questions and inspirations <br><a href=\"https://www.manim.community/discord/\"><img src=\"https://img.shields.io/discord/581738731934056449.svg?label=discord&color=yellow&logo=discord\" alt=\"Discord\"></a>\n"
   ]
  },
  {
   "cell_type": "markdown",
   "id": "0d62c57c",
   "metadata": {
    "slideshow": {
     "slide_type": "subslide"
    }
   },
   "source": [
    "## When to use Manim?\n",
    "\n",
    "<span class=\"fragment semi-fade-out\" data-fragment-index=\"2\">\"<i>Is Manim for everyone?</i>\"</span>\n",
    "<ul><li class=\"fragment fade-right fade-in-then-semi-out\" data-fragment-index=\"1\">Yes, we believe most students and professors can benefit from using Manim</li>\n",
    "</ul>\n",
    "\n",
    "<span class=\"fragment\" data-fragment-index=\"2\"><span class=\"fragment semi-fade-out\" data-fragment-index=\"4\">\"<i>Is Manim for every presentation?</i>\"</span></span>\n",
    "<ul><li class=\"fragment fade-right fade-in-then-semi-out\" data-fragment-index=\"3\">No, Manim is best used when animations make things clearer to the audience</li></ul>\n",
    "\n",
    "<span class=\"fragment\" data-fragment-index=\"4\"><span class=\"fragment semi-fade-out\" data-fragment-index=\"6\">\"<i>What should I be aware of?</i>\"</span></span>\n",
    "<ul><li class=\"fragment fade-right fade-in-then-semi-out\" data-fragment-index=\"5\">Creating animations can take a lot of time (designing and rendering)</li></ul>\n",
    "\n",
    "<span class=\"fragment\" data-fragment-index=\"6\"><span class=\"fragment semi-fade-out\" data-fragment-index=\"8\">\"<i>When is Manim particularly useful?</i>\"</span></span>\n",
    "<ul><li class=\"fragment fade-right fade-in-then-semi-out\" data-fragment-index=\"7\">In small conference talks (~ 10 min.), educational videos, blog posts, ...</li></ul>"
   ]
  },
  {
   "cell_type": "markdown",
   "id": "27abb37d",
   "metadata": {
    "slideshow": {
     "slide_type": "slide"
    }
   },
   "source": [
    "# 4. Additional tools"
   ]
  },
  {
   "cell_type": "markdown",
   "id": "dd29bc21",
   "metadata": {
    "slideshow": {
     "slide_type": "subslide"
    }
   },
   "source": [
    "## Manim Plugins\n",
    "\n",
    "Many plugins were created by users, some of which can be found on https://plugins.manim.community/.\n",
    "\n",
    "We particularly like:\n",
    "\n",
    "* [Manim Physics](https://github.com/Matheart/manim-physics), a physics simulation plugin for Manim\n",
    "* [Chanim](https://github.com/kilacoda/chanim), an animation engine for explanatory chemistry videos\n",
    "* [ManimML](https://github.com/manimml/ManimML), a project focusing on visualizations of common Machine Learning concepts\n",
    "* [Manim Automata](https://github.com/SeanNelsonIO/manim-automata), to render Finite State Machines\n",
    "* [Manim GearBox](https://github.com/GarryBGoode/manim-GearBox), to animate gearboxes"
   ]
  },
  {
   "cell_type": "markdown",
   "id": "19a492a3",
   "metadata": {
    "slideshow": {
     "slide_type": "subslide"
    }
   },
   "source": [
    "## Using Manim inside Jupyter\n",
    "\n",
    "This presentation uses Manim inside Jupyter Notebook cells.\n",
    "\n",
    "```python\n",
    "%%manim SquareToCircle\n",
    "\n",
    "\n",
    "class SquareToCircle(Scene):\n",
    "    def construct(self):\n",
    "        circle = Circle(color=RED)\n",
    "        square = Square()\n",
    "\n",
    "        self.play(Create(square))\n",
    "        self.play(Transform(square, circle))\n",
    "        self.play(FadeOut(square))\n",
    "```\n",
    "\n",
    "The Manim Community wrote [a comprehensive tutorial](https://mybinder.org/v2/gh/ManimCommunity/jupyter_examples/HEAD?filepath=First%20Steps%20with%20Manim.ipynb) on how to use Manim inside a Jupyter Notebook!\n",
    "\n",
    "> *NOTE:* this feature is only available with Manim, not ManimGL"
   ]
  },
  {
   "cell_type": "markdown",
   "id": "c2dab7a3",
   "metadata": {
    "slideshow": {
     "slide_type": "subslide"
    }
   },
   "source": [
    "## Interactive presentation with Manim Slides\n",
    "\n",
    "Remember root finding example from earlier?\n",
    "\n",
    "*What if* we could pause the video whenever we want? Go backward, forward, reverse, and so on?\n",
    "\n",
    "<p class=\"fragment fade-right\">With <a href=\"https://github.com/jeertmans/manim-slides#readme\" rel=\"nofollow\" target=\"_blank\">Manim Slides</a>, you can transform any Manim / ManimGL scene into a <em>PowerPoint</em>-like presentation!</p>"
   ]
  },
  {
   "cell_type": "markdown",
   "id": "2b99088d",
   "metadata": {
    "slideshow": {
     "slide_type": "subslide"
    }
   },
   "source": [
    "### With only one change, turn your video into a slides presentation!\n",
    "\n",
    "<div class=\"highlight\"><pre><span></span><span class=\"kn\">from</span> <span class=\"nn\">manim</span> <span class=\"kn\">import</span> <span class=\"o\">*</span>\n",
    "<it class=\"fragment\" data-fragment-index=\"1\"><font color=\"green\">from manim_slides import Slide</font></it>\n",
    "\n",
    "<span class=\"k\">class</span> <span class=\"fragment highlight-red strike\" data-fragment-index=\"1\"><span class=\"nc\">RootExample</span><span class=\"p\">(</span><span class=\"n\">Scene</span><span class=\"p\">):</span></span><span class=\"fragment\" data-fragment-index=\"1\"> <it><font color=\"green\">RootExample(Slide):</font></it></span>\n",
    "    <span class=\"k\">def</span> <span class=\"nf\">construct</span><span class=\"p\">(</span><span class=\"bp\">self</span><span class=\"p\">):</span>\n",
    "        <span class=\"c1\"># Not shown: constructing axes, labels, graph, dots, etc.</span>\n",
    "        <span class=\"bp\">self</span><span class=\"o\">.</span><span class=\"n\">add</span><span class=\"p\">(</span><span class=\"n\">ax</span><span class=\"p\">,</span> <span class=\"n\">labels</span><span class=\"p\">,</span> <span class=\"n\">graph</span><span class=\"p\">,</span> <span class=\"n\">dot</span><span class=\"p\">)</span>  <span class=\"c1\"># Add plot to scene</span>\n",
    "        <span class=\"bp\">self</span><span class=\"o\">.</span><span class=\"n\">wait</span><span class=\"p\">()</span>  <span class=\"c1\"># Wait for some time</span>\n",
    "        <it class=\"fragment\" data-fragment-index=\"1\"><font color=\"green\">self.pause()</font></it>\n",
    "        <span class=\"bp\">self</span><span class=\"o\">.</span><span class=\"n\">play</span><span class=\"p\">(</span><span class=\"n\">Create</span><span class=\"p\">(</span><span class=\"n\">tangent</span><span class=\"p\">))</span>  <span class=\"c1\"># Animate tanget creation</span>\n",
    "        <it class=\"fragment\" data-fragment-index=\"1\"><font color=\"green\">self.pause()</font></it>\n",
    "        <span class=\"bp\">self</span><span class=\"o\">.</span><span class=\"n\">play</span><span class=\"p\">(</span><span class=\"n\">Write</span><span class=\"p\">(</span><span class=\"n\">fraction</span><span class=\"p\">))</span>  <span class=\"c1\"># Animate fraction writing</span>\n",
    "        <it class=\"fragment\" data-fragment-index=\"1\"><font color=\"green\">self.pause()</font></it><br>\n",
    "        <span class=\"k\">while</span> <span class=\"nb\">abs</span><span class=\"p\">(</span><span class=\"n\">f</span><span class=\"p\">(</span><span class=\"n\">x</span><span class=\"p\">))</span> <span class=\"o\">&gt;</span> <span class=\"mf\">1e-6</span><span class=\"p\">:</span>  <span class=\"c1\"># Until convergence</span>\n",
    "            <span class=\"n\">dx</span> <span class=\"o\">=</span> <span class=\"o\">-</span><span class=\"n\">f</span><span class=\"p\">(</span><span class=\"n\">x</span><span class=\"p\">)</span> <span class=\"o\">/</span> <span class=\"n\">df</span><span class=\"p\">(</span><span class=\"n\">x</span><span class=\"p\">)</span>\n",
    "            <span class=\"n\">x</span> <span class=\"o\">+=</span> <span class=\"n\">dx</span>\n",
    "            <span class=\"c1\"># Not shown: new dest., and creating horiz. arrow</span>\n",
    "            <span class=\"bp\">self</span><span class=\"o\">.</span><span class=\"n\">play</span><span class=\"p\">(</span><span class=\"n\">Create</span><span class=\"p\">(</span><span class=\"n\">direction</span><span class=\"p\">))</span>  <span class=\"c1\"># Animate arrow creation</span>\n",
    "            <span class=\"bp\">self</span><span class=\"o\">.</span><span class=\"n\">play</span><span class=\"p\">(</span><span class=\"o\">...</span><span class=\"p\">)</span> <span class=\"c1\"># Animate dot's displacement and arrow's fading</span>\n",
    "            <it class=\"fragment\" data-fragment-index=\"1\"><font color=\"green\">self.pause()</font></it><br>\n",
    "        <span class=\"bp\">self</span><span class=\"o\">.</span><span class=\"n\">wait</span><span class=\"p\">(</span><span class=\"mi\">5</span><span class=\"p\">)</span>  <span class=\"c1\"># Wait for some time</span>\n",
    "</pre></div>"
   ]
  },
  {
   "cell_type": "markdown",
   "id": "32799b9c",
   "metadata": {
    "slideshow": {
     "slide_type": "subslide"
    }
   },
   "source": [
    "### Demo time!"
   ]
  },
  {
   "cell_type": "markdown",
   "id": "4228c4fd",
   "metadata": {
    "slideshow": {
     "slide_type": "slide"
    }
   },
   "source": [
    "# Thank you for listening!\n",
    "\n",
    "<br>\n",
    "<br>\n",
    "\n",
    "<table>\n",
    "    <tr style=\"background-color: #fff;\">\n",
    "        <th><center>GitHub repository</center></th>\n",
    "        <th>&nbsp;&nbsp;&nbsp;&nbsp;</th>\n",
    "        <th><center>Presentation slides online</center></th>\n",
    "    </tr>\n",
    "    <tr style=\"background-color: #fff;\">\n",
    "        <td><center><img width=\"200px\" src=\"images/github-qrcode.png\"></center></td>\n",
    "        <td></td>\n",
    "        <td><center><img width=\"200px\" src=\"images/slides-qrcode.png\"></center></td>\n",
    "    </tr>\n",
    "    <tr style=\"background-color: #fff;\">\n",
    "        <td><center><a href=\"https://github.com/jeertmans/manim-tutorial\">https://github.com/jeertmans/manim-tutorial</a></center></td>\n",
    "        <td></td>\n",
    "        <td><center><a href=\"https://eertmans.be/manim-tutorial\">https://eertmans.be/manim-tutorial</a></center></td>\n",
    "    </tr>\n",
    "</table>"
   ]
  }
 ],
 "metadata": {
  "celltoolbar": "Slideshow",
  "kernelspec": {
   "display_name": "manim",
   "language": "python",
   "name": "manim"
  },
  "language_info": {
   "codemirror_mode": {
    "name": "ipython",
    "version": 3
   },
   "file_extension": ".py",
   "mimetype": "text/x-python",
   "name": "python",
   "nbconvert_exporter": "python",
   "pygments_lexer": "ipython3",
   "version": "3.10.4"
  }
 },
 "nbformat": 4,
 "nbformat_minor": 5
}
