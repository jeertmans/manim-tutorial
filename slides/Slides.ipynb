{
 "cells": [
  {
   "cell_type": "markdown",
   "id": "81d815d5",
   "metadata": {
    "slideshow": {
     "slide_type": "slide"
    }
   },
   "source": [
    "![Manim Tutorial Logo](images/logo.png)\n",
    "\n",
    "<center>\n",
    "    Olivier Leblanc and <href=\"https://eertmans.be/manim-tutorial\">Jérome Eertmans</href><br>\n",
    "    IEEE Student Branch, October 18th 2022\n",
    "</center>"
   ]
  },
  {
   "cell_type": "code",
   "execution_count": 1,
   "id": "56296b93",
   "metadata": {
    "slideshow": {
     "slide_type": "skip"
    }
   },
   "outputs": [
    {
     "data": {
      "text/html": [
       "<pre style=\"white-space:pre;overflow-x:auto;line-height:normal;font-family:Menlo,'DejaVu Sans Mono',consolas,'Courier New',monospace\">Manim Community <span style=\"color: #008000; text-decoration-color: #008000\">v0.16.0.post0</span>\n",
       "\n",
       "</pre>\n"
      ],
      "text/plain": [
       "Manim Community \u001b[32mv0.\u001b[0m\u001b[32m16.0\u001b[0m\u001b[32m.post0\u001b[0m\n",
       "\n"
      ]
     },
     "metadata": {},
     "output_type": "display_data"
    }
   ],
   "source": [
    "from manim import *"
   ]
  },
  {
   "cell_type": "markdown",
   "id": "87afbd95",
   "metadata": {
    "slideshow": {
     "slide_type": "slide"
    }
   },
   "source": [
    "# Forewords\n",
    "\n",
    "Slides, code and documentation are available in open source. See last slide."
   ]
  },
  {
   "cell_type": "markdown",
   "id": "0647aca8",
   "metadata": {
    "slideshow": {
     "slide_type": "slide"
    }
   },
   "source": [
    "# Table of Content\n",
    "\n",
    "1. What is Manim?\n",
    "2. Manim vs ManimGL\n",
    "3. How you can use Manim\n",
    "4. Various plugins"
   ]
  },
  {
   "cell_type": "markdown",
   "id": "d9b5dc49",
   "metadata": {
    "slideshow": {
     "slide_type": "slide"
    }
   },
   "source": [
    "# 1. What is Manim?"
   ]
  },
  {
   "cell_type": "markdown",
   "id": "d91de1a6",
   "metadata": {
    "slideshow": {
     "slide_type": "subslide"
    }
   },
   "source": [
    "![Grant Sanderson](images/grant.png)"
   ]
  },
  {
   "cell_type": "markdown",
   "id": "673fe7cf",
   "metadata": {
    "slideshow": {
     "slide_type": "subslide"
    }
   },
   "source": [
    "<center>\n",
    "    <img alt=\"3Blue1Brown logo\" src=\"images/3B1B_logo.png\" width=\"500px\">\n",
    "</center>"
   ]
  },
  {
   "cell_type": "markdown",
   "id": "8b56d09e",
   "metadata": {
    "slideshow": {
     "slide_type": "subslide"
    }
   },
   "source": [
    "![3Blue1Brown channel](images/3B1B_channel.png)"
   ]
  },
  {
   "cell_type": "markdown",
   "id": "0bd5ece3",
   "metadata": {
    "slideshow": {
     "slide_type": "subslide"
    }
   },
   "source": [
    "```python\n",
    "class ManimSlidesLogo(Scene):\n",
    "    def construct(self):\n",
    "        tex_template = TexTemplate()\n",
    "        tex_template.add_to_preamble(r\"\\usepackage{fontawesome5}\")\n",
    "        self.camera.background_color = \"#ffffff\"\n",
    "        logo_green = \"#87c2a5\"\n",
    "        logo_blue = \"#525893\"\n",
    "        logo_red = \"#e07a5f\"\n",
    "        logo_black = \"#343434\"\n",
    "        ds_m = MathTex(r\"\\mathbb{M}\", fill_color=logo_black).scale(7)\n",
    "        ds_m.shift(2.25 * LEFT + 1.5 * UP)\n",
    "        circle = Circle(color=logo_green, fill_opacity=1).shift(LEFT)\n",
    "        square = Square(color=logo_blue, fill_opacity=1).shift(UP)\n",
    "        triangle = Triangle(color=logo_red, fill_opacity=1).shift(\n",
    "            RIGHT\n",
    "        )\n",
    "        logo = VGroup(\n",
    "            triangle,\n",
    "            square,\n",
    "            circle,\n",
    "            ds_m,\n",
    "        )  # order matters\n",
    "        logo.move_to(ORIGIN)\n",
    "        self.add(logo)\n",
    "```"
   ]
  },
  {
   "cell_type": "code",
   "execution_count": 2,
   "id": "b5eda314",
   "metadata": {
    "slideshow": {
     "slide_type": "subslide"
    }
   },
   "outputs": [
    {
     "ename": "KeyError",
     "evalue": "'ManimSlidesLogo'",
     "output_type": "error",
     "traceback": [
      "\u001b[0;31m---------------------------------------------------------------------------\u001b[0m",
      "\u001b[0;31mKeyError\u001b[0m                                  Traceback (most recent call last)",
      "Cell \u001b[0;32mIn [2], line 1\u001b[0m\n\u001b[0;32m----> 1\u001b[0m \u001b[43mget_ipython\u001b[49m\u001b[43m(\u001b[49m\u001b[43m)\u001b[49m\u001b[38;5;241;43m.\u001b[39;49m\u001b[43mrun_line_magic\u001b[49m\u001b[43m(\u001b[49m\u001b[38;5;124;43m'\u001b[39;49m\u001b[38;5;124;43mmanim\u001b[39;49m\u001b[38;5;124;43m'\u001b[39;49m\u001b[43m,\u001b[49m\u001b[43m \u001b[49m\u001b[38;5;124;43m'\u001b[39;49m\u001b[38;5;124;43m-qh -v WARNING -s --format=png ManimSlidesLogo\u001b[39;49m\u001b[38;5;124;43m'\u001b[39;49m\u001b[43m)\u001b[49m\n",
      "File \u001b[0;32m/export/home/eertmans/.virtualenvs/manim/lib/python3.10/site-packages/IPython/core/interactiveshell.py:2309\u001b[0m, in \u001b[0;36mInteractiveShell.run_line_magic\u001b[0;34m(self, magic_name, line, _stack_depth)\u001b[0m\n\u001b[1;32m   2307\u001b[0m     kwargs[\u001b[38;5;124m'\u001b[39m\u001b[38;5;124mlocal_ns\u001b[39m\u001b[38;5;124m'\u001b[39m] \u001b[38;5;241m=\u001b[39m \u001b[38;5;28mself\u001b[39m\u001b[38;5;241m.\u001b[39mget_local_scope(stack_depth)\n\u001b[1;32m   2308\u001b[0m \u001b[38;5;28;01mwith\u001b[39;00m \u001b[38;5;28mself\u001b[39m\u001b[38;5;241m.\u001b[39mbuiltin_trap:\n\u001b[0;32m-> 2309\u001b[0m     result \u001b[38;5;241m=\u001b[39m \u001b[43mfn\u001b[49m\u001b[43m(\u001b[49m\u001b[38;5;241;43m*\u001b[39;49m\u001b[43margs\u001b[49m\u001b[43m,\u001b[49m\u001b[43m \u001b[49m\u001b[38;5;241;43m*\u001b[39;49m\u001b[38;5;241;43m*\u001b[39;49m\u001b[43mkwargs\u001b[49m\u001b[43m)\u001b[49m\n\u001b[1;32m   2310\u001b[0m \u001b[38;5;28;01mreturn\u001b[39;00m result\n",
      "File \u001b[0;32m/export/home/eertmans/.virtualenvs/manim/lib/python3.10/site-packages/manim/utils/ipython_magic.py:148\u001b[0m, in \u001b[0;36mManimMagic.manim\u001b[0;34m(self, line, cell, local_ns)\u001b[0m\n\u001b[1;32m    145\u001b[0m         config\u001b[38;5;241m.\u001b[39mrenderer \u001b[38;5;241m=\u001b[39m \u001b[38;5;124m\"\u001b[39m\u001b[38;5;124mcairo\u001b[39m\u001b[38;5;124m\"\u001b[39m\n\u001b[1;32m    147\u001b[0m \u001b[38;5;28;01mtry\u001b[39;00m:\n\u001b[0;32m--> 148\u001b[0m     SceneClass \u001b[38;5;241m=\u001b[39m \u001b[43mlocal_ns\u001b[49m\u001b[43m[\u001b[49m\u001b[43mconfig\u001b[49m\u001b[43m[\u001b[49m\u001b[38;5;124;43m\"\u001b[39;49m\u001b[38;5;124;43mscene_names\u001b[39;49m\u001b[38;5;124;43m\"\u001b[39;49m\u001b[43m]\u001b[49m\u001b[43m[\u001b[49m\u001b[38;5;241;43m0\u001b[39;49m\u001b[43m]\u001b[49m\u001b[43m]\u001b[49m\n\u001b[1;32m    149\u001b[0m     scene \u001b[38;5;241m=\u001b[39m SceneClass(renderer\u001b[38;5;241m=\u001b[39mrenderer)\n\u001b[1;32m    150\u001b[0m     scene\u001b[38;5;241m.\u001b[39mrender()\n",
      "\u001b[0;31mKeyError\u001b[0m: 'ManimSlidesLogo'"
     ]
    }
   ],
   "source": [
    "%manim -qh -v WARNING -s --format=png ManimSlidesLogo"
   ]
  },
  {
   "cell_type": "markdown",
   "id": "6e320c1d",
   "metadata": {
    "slideshow": {
     "slide_type": "subslide"
    }
   },
   "source": [
    "# Some text"
   ]
  },
  {
   "cell_type": "markdown",
   "id": "a7667701",
   "metadata": {
    "slideshow": {
     "slide_type": "slide"
    }
   },
   "source": [
    "# 2. Manim vs ManimGL"
   ]
  },
  {
   "cell_type": "markdown",
   "id": "6649452b",
   "metadata": {
    "slideshow": {
     "slide_type": "slide"
    }
   },
   "source": [
    "# 3. How you can use Manim"
   ]
  },
  {
   "cell_type": "markdown",
   "id": "db9b3a15",
   "metadata": {
    "slideshow": {
     "slide_type": "slide"
    }
   },
   "source": [
    "# 4. Various plugins"
   ]
  },
  {
   "cell_type": "markdown",
   "id": "534d4159",
   "metadata": {
    "slideshow": {
     "slide_type": "slide"
    }
   },
   "source": [
    "# Thank you for listening!\n",
    "\n",
    "<br>\n",
    "<br>\n",
    "\n",
    "<table>\n",
    "    <tr style=\"background-color: #fff;\">\n",
    "        <th><center>GitHub repository</center></th>\n",
    "        <th>&nbsp;&nbsp;&nbsp;&nbsp;</th>\n",
    "        <th><center>Presentation slides online</center></th>\n",
    "    </tr>\n",
    "    <tr style=\"background-color: #fff;\">\n",
    "        <td><center><img width=\"200px\" src=\"images/github-qrcode.png\"></center></td>\n",
    "        <td></td>\n",
    "        <td><center><img width=\"200px\" src=\"images/slides-qrcode.png\"></center></td>\n",
    "    </tr>\n",
    "    <tr style=\"background-color: #fff;\">\n",
    "        <td><center><a class=\"explicit-link\">https://github.com/jeertmans/manim-tutorial</a></center></td>\n",
    "        <td></td>\n",
    "        <td><center><a class=\"explicit-link\">https://eertmans.be/manim-tutorial</a></center></td>\n",
    "    </tr>\n",
    "</table>"
   ]
  },
  {
   "cell_type": "code",
   "execution_count": null,
   "id": "6efa8c99",
   "metadata": {},
   "outputs": [],
   "source": []
  }
 ],
 "metadata": {
  "celltoolbar": "Diaporama",
  "kernelspec": {
   "display_name": "manim",
   "language": "python",
   "name": "manim"
  },
  "language_info": {
   "codemirror_mode": {
    "name": "ipython",
    "version": 3
   },
   "file_extension": ".py",
   "mimetype": "text/x-python",
   "name": "python",
   "nbconvert_exporter": "python",
   "pygments_lexer": "ipython3",
   "version": "3.10.4"
  }
 },
 "nbformat": 4,
 "nbformat_minor": 5
}
