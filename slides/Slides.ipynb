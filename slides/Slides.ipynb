{
 "cells": [
  {
   "cell_type": "markdown",
   "id": "81d815d5",
   "metadata": {
    "slideshow": {
     "slide_type": "slide"
    }
   },
   "source": [
    "![Manim Tutorial Logo](images/logo.png)\n",
    "\n",
    "<center>\n",
    "    Olivier Leblanc and <href=\"https://eertmans.be/manim-tutorial\">Jérome Eertmans</href><br>\n",
    "    IEEE Student Branch, October 18th 2022\n",
    "</center>"
   ]
  },
  {
   "cell_type": "code",
   "execution_count": 1,
   "id": "56296b93",
   "metadata": {
    "slideshow": {
     "slide_type": "skip"
    }
   },
   "outputs": [
    {
     "data": {
      "text/html": [
       "<pre style=\"white-space:pre;overflow-x:auto;line-height:normal;font-family:Menlo,'DejaVu Sans Mono',consolas,'Courier New',monospace\">Manim Community <span style=\"color: #008000; text-decoration-color: #008000\">v0.16.0.post0</span>\n",
       "\n",
       "</pre>\n"
      ],
      "text/plain": [
       "Manim Community \u001b[32mv0.\u001b[0m\u001b[32m16.0\u001b[0m\u001b[32m.post0\u001b[0m\n",
       "\n"
      ]
     },
     "metadata": {},
     "output_type": "display_data"
    }
   ],
   "source": [
    "from manim import *\n",
    "\n",
    "config.media_width = \"100%\"\n",
    "config.verbosity = \"WARNING\"\n",
    "config.progress_bar = \"none\"\n",
    "# config.disable_caching = False\n",
    "# config.format = \"mp4\"\n",
    "# config.quality = \"medium_quality\"\n",
    "# config.frame_rate = 30"
   ]
  },
  {
   "cell_type": "code",
   "execution_count": 10,
   "id": "a821dd7e",
   "metadata": {
    "slideshow": {
     "slide_type": "slide"
    }
   },
   "outputs": [
    {
     "data": {
      "text/html": [
       "<video src=\"media/jupyter/ManimShowcase@2022-09-24@12-40-55.mov\" controls autoplay loop style=\"max-width: 100%;\"  >\n",
       "      Your browser does not support the <code>video</code> element.\n",
       "    </video>"
      ],
      "text/plain": [
       "<IPython.core.display.Video object>"
      ]
     },
     "metadata": {},
     "output_type": "display_data"
    }
   ],
   "source": [
    "%%manim ManimShowcase\n",
    "\n",
    "# Present examples are all taken from Manim Community Example Gallery\n",
    "# and from First Steps with Manim.ipynb\n",
    "\n",
    "\n",
    "class ContinuousMotion(Scene):\n",
    "    def construct(self):\n",
    "        func = lambda pos: np.sin(pos[0] / 2) * UR + np.cos(pos[1] / 2) * LEFT\n",
    "        stream_lines = StreamLines(func, stroke_width=2, max_anchors_per_line=30)\n",
    "        self.add(stream_lines)\n",
    "        stream_lines.start_animation(warm_up=False, flow_speed=1.5)\n",
    "        self.wait(stream_lines.virtual_time / stream_lines.flow_speed)\n",
    "\n",
    "\n",
    "class FollowingGraphCamera(MovingCameraScene):\n",
    "    def construct(self):\n",
    "        self.camera.frame.save_state()\n",
    "\n",
    "        # create the axes and the curve\n",
    "        ax = Axes(x_range=[-1, 10], y_range=[-1, 10])\n",
    "        graph = ax.plot(lambda x: np.sin(x), color=BLUE, x_range=[0, 3 * PI])\n",
    "\n",
    "        # create dots based on the graph\n",
    "        moving_dot = Dot(ax.i2gp(graph.t_min, graph), color=ORANGE)\n",
    "        dot_1 = Dot(ax.i2gp(graph.t_min, graph))\n",
    "        dot_2 = Dot(ax.i2gp(graph.t_max, graph))\n",
    "\n",
    "        self.add(ax, graph, dot_1, dot_2, moving_dot)\n",
    "        self.play(self.camera.frame.animate.scale(0.5).move_to(moving_dot))\n",
    "\n",
    "        def update_curve(mob):\n",
    "            mob.move_to(moving_dot.get_center())\n",
    "\n",
    "        self.camera.frame.add_updater(update_curve)\n",
    "        self.play(MoveAlongPath(moving_dot, graph, rate_func=linear))\n",
    "        self.camera.frame.remove_updater(update_curve)\n",
    "\n",
    "        self.play(Restore(self.camera.frame))\n",
    "\n",
    "\n",
    "class MovingAngle(Scene):\n",
    "    def construct(self):\n",
    "        rotation_center = LEFT\n",
    "\n",
    "        theta_tracker = ValueTracker(110)\n",
    "        line1 = Line(LEFT, RIGHT)\n",
    "        line_moving = Line(LEFT, RIGHT)\n",
    "        line_ref = line_moving.copy()\n",
    "        line_moving.rotate(\n",
    "            theta_tracker.get_value() * DEGREES, about_point=rotation_center\n",
    "        )\n",
    "        a = Angle(line1, line_moving, radius=0.5, other_angle=False)\n",
    "        tex = MathTex(r\"\\theta\").move_to(\n",
    "            Angle(\n",
    "                line1, line_moving, radius=0.5 + 3 * SMALL_BUFF, other_angle=False\n",
    "            ).point_from_proportion(0.5)\n",
    "        )\n",
    "\n",
    "        self.add(line1, line_moving, a, tex)\n",
    "        self.wait()\n",
    "\n",
    "        line_moving.add_updater(\n",
    "            lambda x: x.become(line_ref.copy()).rotate(\n",
    "                theta_tracker.get_value() * DEGREES, about_point=rotation_center\n",
    "            )\n",
    "        )\n",
    "\n",
    "        a.add_updater(\n",
    "            lambda x: x.become(Angle(line1, line_moving, radius=0.5, other_angle=False))\n",
    "        )\n",
    "        tex.add_updater(\n",
    "            lambda x: x.move_to(\n",
    "                Angle(\n",
    "                    line1, line_moving, radius=0.5 + 3 * SMALL_BUFF, other_angle=False\n",
    "                ).point_from_proportion(0.5)\n",
    "            )\n",
    "        )\n",
    "\n",
    "        self.play(theta_tracker.animate.set_value(40))\n",
    "        self.play(theta_tracker.animate.increment_value(140))\n",
    "        self.play(tex.animate.set_color(RED), run_time=0.5)\n",
    "        self.play(theta_tracker.animate.set_value(350))\n",
    "\n",
    "\n",
    "class PlotExample(Scene):\n",
    "    def construct(self):\n",
    "        plot_axes = Axes(\n",
    "            x_range=[0, 1, 0.05],\n",
    "            y_range=[0, 1, 0.05],\n",
    "            x_length=9,\n",
    "            y_length=5.5,\n",
    "            axis_config={\n",
    "                \"numbers_to_include\": np.arange(0, 1 + 0.1, 0.1),\n",
    "                \"font_size\": 24,\n",
    "            },\n",
    "            tips=False,\n",
    "        )\n",
    "\n",
    "        y_label = plot_axes.get_y_axis_label(\"y\", edge=LEFT, direction=LEFT, buff=0.4)\n",
    "        x_label = plot_axes.get_x_axis_label(\"x\")\n",
    "        plot_labels = VGroup(x_label, y_label)\n",
    "\n",
    "        plots = VGroup()\n",
    "        for n in np.arange(1, 20 + 0.5, 0.5):\n",
    "            plots += plot_axes.plot(lambda x: x**n, color=WHITE)\n",
    "            plots += plot_axes.plot(\n",
    "                lambda x: x ** (1 / n), color=WHITE, use_smoothing=False\n",
    "            )\n",
    "\n",
    "        extras = VGroup()\n",
    "        extras += plot_axes.get_horizontal_line(plot_axes.c2p(1, 1, 0), color=BLUE)\n",
    "        extras += plot_axes.get_vertical_line(plot_axes.c2p(1, 1, 0), color=BLUE)\n",
    "        extras += Dot(point=plot_axes.c2p(1, 1, 0), color=YELLOW)\n",
    "        title = Title(\n",
    "            r\"Graphs of $y=x^{\\frac{1}{n}}$ and $y=x^n (n=1, 1.5, 2, 2.5, 3, \\dots, 20)$\",\n",
    "            include_underline=False,\n",
    "            font_size=40,\n",
    "        )\n",
    "\n",
    "        self.play(Write(title))\n",
    "        self.play(Create(plot_axes), Create(plot_labels), Create(extras))\n",
    "        self.play(AnimationGroup(*[Create(plot) for plot in plots], lag_ratio=0.05))\n",
    "\n",
    "\n",
    "class PolygonOnAxes(Scene):\n",
    "    def get_rectangle_corners(self, bottom_left, top_right):\n",
    "        return [\n",
    "            (top_right[0], top_right[1]),\n",
    "            (bottom_left[0], top_right[1]),\n",
    "            (bottom_left[0], bottom_left[0]),\n",
    "            (top_right[0], bottom_left[0]),\n",
    "        ]\n",
    "\n",
    "    def construct(self):\n",
    "        ax = Axes(\n",
    "            x_range=[0, 10],\n",
    "            y_range=[0, 10],\n",
    "            x_length=6,\n",
    "            y_length=6,\n",
    "            axis_config={\"include_tip\": False},\n",
    "        )\n",
    "\n",
    "        t = ValueTracker(5)\n",
    "        k = 25\n",
    "\n",
    "        graph = ax.plot(\n",
    "            lambda x: k / x,\n",
    "            color=YELLOW_D,\n",
    "            x_range=[k / 10, 10.0, 0.01],\n",
    "            use_smoothing=False,\n",
    "        )\n",
    "\n",
    "        def get_rectangle():\n",
    "            polygon = Polygon(\n",
    "                *[\n",
    "                    ax.c2p(*i)\n",
    "                    for i in self.get_rectangle_corners(\n",
    "                        (0, 0), (t.get_value(), k / t.get_value())\n",
    "                    )\n",
    "                ]\n",
    "            )\n",
    "            polygon.stroke_width = 1\n",
    "            polygon.set_fill(BLUE, opacity=0.5)\n",
    "            polygon.set_stroke(YELLOW_B)\n",
    "            return polygon\n",
    "\n",
    "        polygon = always_redraw(get_rectangle)\n",
    "\n",
    "        dot = Dot()\n",
    "        dot.add_updater(lambda x: x.move_to(ax.c2p(t.get_value(), k / t.get_value())))\n",
    "        dot.set_z_index(10)\n",
    "\n",
    "        self.add(ax, graph, dot)\n",
    "        self.play(Create(polygon))\n",
    "        self.play(t.animate.set_value(10))\n",
    "        self.play(t.animate.set_value(k / 10))\n",
    "        self.play(t.animate.set_value(5))\n",
    "\n",
    "\n",
    "import networkx as nx\n",
    "\n",
    "nxgraph = nx.erdos_renyi_graph(14, 0.5)\n",
    "\n",
    "\n",
    "class ErdosRenyiGraph(Scene):\n",
    "    def construct(self):\n",
    "        G = Graph.from_networkx(nxgraph, layout=\"spring\", layout_scale=3.5)\n",
    "        self.play(Create(G))\n",
    "        self.play(\n",
    "            *[\n",
    "                G[v].animate.move_to(\n",
    "                    5 * RIGHT * np.cos(ind / 7 * PI) + 3 * UP * np.sin(ind / 7 * PI)\n",
    "                )\n",
    "                for ind, v in enumerate(G.vertices)\n",
    "            ]\n",
    "        )\n",
    "        self.play(Uncreate(G))\n",
    "\n",
    "\n",
    "class ThisWasManim(Scene):\n",
    "    def construct(self):\n",
    "        title = Tex(r\"This scene was created\")\n",
    "        basel = Tex(r\"with Manim\")\n",
    "        group = VGroup(title, basel).arrange(DOWN)\n",
    "        self.play(Write(title), run_time=1.5)\n",
    "        self.play(\n",
    "            FadeIn(basel, shift=DOWN),\n",
    "        )\n",
    "        self.wait()\n",
    "\n",
    "        logo_green = \"#87c2a5\"\n",
    "        logo_blue = \"#525893\"\n",
    "        logo_red = \"#e07a5f\"\n",
    "        logo_black = \"#ffffff\"  # changed color to white\n",
    "        ds_m = MathTex(r\"\\mathbb{M}\", fill_color=logo_black).scale(7)\n",
    "        ds_m.shift(2.25 * LEFT + 1.5 * UP)\n",
    "        circle = Circle(color=logo_green, fill_opacity=1).shift(LEFT)\n",
    "        square = Square(color=logo_blue, fill_opacity=1).shift(UP)\n",
    "        triangle = Triangle(color=logo_red, fill_opacity=1).shift(RIGHT)\n",
    "        logo = VGroup(triangle, square, circle, ds_m)  # order matters\n",
    "        logo.move_to(ORIGIN)\n",
    "        self.play(FadeOut(group), SpiralIn(logo), run_time=3)\n",
    "        self.wait(5)\n",
    "\n",
    "\n",
    "import functools\n",
    "\n",
    "\n",
    "def concatenate(*scenes, wait_between_scenes=0, clear_between_scenes=True):\n",
    "    def construct(self):\n",
    "        for scene in self.scenes:\n",
    "            scene.construct(self)\n",
    "\n",
    "            scene.wait(self, wait_between_scenes)\n",
    "\n",
    "            if clear_between_scenes:\n",
    "\n",
    "                scene.clear(self)\n",
    "\n",
    "    def wrapper(cls):\n",
    "        @functools.wraps(cls)\n",
    "        def __wrapper__(cls):\n",
    "            if len(scenes) > 1:\n",
    "                cls.__bases__ = scenes\n",
    "\n",
    "            cls.scenes = cls.__bases__\n",
    "            cls.construct = construct\n",
    "\n",
    "            return cls\n",
    "\n",
    "        return __wrapper__(cls)\n",
    "\n",
    "    if len(scenes) == 1:\n",
    "        return wrapper(scenes[0])\n",
    "\n",
    "    return wrapper\n",
    "\n",
    "\n",
    "@concatenate\n",
    "class ManimShowcase(\n",
    "    FollowingGraphCamera,\n",
    "    PlotExample,\n",
    "    MovingAngle,\n",
    "    PolygonOnAxes,\n",
    "    ErdosRenyiGraph,\n",
    "    ContinuousMotion,\n",
    "    ThisWasManim,\n",
    "):\n",
    "    pass"
   ]
  },
  {
   "cell_type": "markdown",
   "id": "a307845b",
   "metadata": {
    "slideshow": {
     "slide_type": "slide"
    }
   },
   "source": [
    "# Forewords\n",
    "\n",
    "Slides, code and documentation are available in open source. See last slide."
   ]
  },
  {
   "cell_type": "markdown",
   "id": "cf41735f",
   "metadata": {
    "slideshow": {
     "slide_type": "slide"
    }
   },
   "source": [
    "# Table of Content\n",
    "\n",
    "1. What is Manim?\n",
    "2. Manim vs ManimGL\n",
    "3. How you can use Manim\n",
    "4. Various plugins"
   ]
  },
  {
   "cell_type": "markdown",
   "id": "0f7bb5f1",
   "metadata": {
    "slideshow": {
     "slide_type": "slide"
    }
   },
   "source": [
    "# 1. What is Manim?"
   ]
  },
  {
   "cell_type": "markdown",
   "id": "12015d7d",
   "metadata": {
    "slideshow": {
     "slide_type": "subslide"
    }
   },
   "source": [
    "![Grant Sanderson](images/grant.png)"
   ]
  },
  {
   "cell_type": "markdown",
   "id": "bf8f8e76",
   "metadata": {
    "slideshow": {
     "slide_type": "subslide"
    }
   },
   "source": [
    "<center>\n",
    "    <img alt=\"3Blue1Brown logo\" src=\"images/3B1B_logo.png\" width=\"500px\">\n",
    "</center>"
   ]
  },
  {
   "cell_type": "markdown",
   "id": "053339d7",
   "metadata": {
    "slideshow": {
     "slide_type": "subslide"
    }
   },
   "source": [
    "![3Blue1Brown channel](images/3B1B_channel.png)"
   ]
  },
  {
   "cell_type": "markdown",
   "id": "017ae286",
   "metadata": {
    "slideshow": {
     "slide_type": "subslide"
    }
   },
   "source": [
    "```python\n",
    "class ManimSlidesLogo(Scene):\n",
    "    def construct(self):\n",
    "        tex_template = TexTemplate()\n",
    "        tex_template.add_to_preamble(r\"\\usepackage{fontawesome5}\")\n",
    "        self.camera.background_color = \"#ffffff\"\n",
    "        logo_green = \"#87c2a5\"\n",
    "        logo_blue = \"#525893\"\n",
    "        logo_red = \"#e07a5f\"\n",
    "        logo_black = \"#343434\"\n",
    "        ds_m = MathTex(r\"\\mathbb{M}\", fill_color=logo_black).scale(7)\n",
    "        ds_m.shift(2.25 * LEFT + 1.5 * UP)\n",
    "        circle = Circle(color=logo_green, fill_opacity=1).shift(LEFT)\n",
    "        square = Square(color=logo_blue, fill_opacity=1).shift(UP)\n",
    "        triangle = Triangle(color=logo_red, fill_opacity=1).shift(\n",
    "            RIGHT\n",
    "        )\n",
    "        logo = VGroup(\n",
    "            triangle,\n",
    "            square,\n",
    "            circle,\n",
    "            ds_m,\n",
    "        )  # order matters\n",
    "        logo.move_to(ORIGIN)\n",
    "        self.add(logo)\n",
    "```"
   ]
  },
  {
   "cell_type": "markdown",
   "id": "6e320c1d",
   "metadata": {
    "slideshow": {
     "slide_type": "subslide"
    }
   },
   "source": [
    "# Some text"
   ]
  },
  {
   "cell_type": "markdown",
   "id": "b22447aa",
   "metadata": {
    "slideshow": {
     "slide_type": "slide"
    }
   },
   "source": [
    "# 2. Manim vs ManimGL"
   ]
  },
  {
   "cell_type": "markdown",
   "id": "c3180222",
   "metadata": {
    "slideshow": {
     "slide_type": "slide"
    }
   },
   "source": [
    "# 3. How you can use Manim"
   ]
  },
  {
   "cell_type": "markdown",
   "id": "27abb37d",
   "metadata": {
    "slideshow": {
     "slide_type": "slide"
    }
   },
   "source": [
    "# 4. Various plugins"
   ]
  },
  {
   "cell_type": "markdown",
   "id": "4228c4fd",
   "metadata": {
    "slideshow": {
     "slide_type": "slide"
    }
   },
   "source": [
    "# Thank you for listening!\n",
    "\n",
    "<br>\n",
    "<br>\n",
    "\n",
    "<table>\n",
    "    <tr style=\"background-color: #fff;\">\n",
    "        <th><center>GitHub repository</center></th>\n",
    "        <th>&nbsp;&nbsp;&nbsp;&nbsp;</th>\n",
    "        <th><center>Presentation slides online</center></th>\n",
    "    </tr>\n",
    "    <tr style=\"background-color: #fff;\">\n",
    "        <td><center><img width=\"200px\" src=\"images/github-qrcode.png\"></center></td>\n",
    "        <td></td>\n",
    "        <td><center><img width=\"200px\" src=\"images/slides-qrcode.png\"></center></td>\n",
    "    </tr>\n",
    "    <tr style=\"background-color: #fff;\">\n",
    "        <td><center><a href=\"https://github.com/jeertmans/manim-tutorial\">https://github.com/jeertmans/manim-tutorial</a></center></td>\n",
    "        <td></td>\n",
    "        <td><center><a href=\"https://eertmans.be/manim-tutorial\">https://eertmans.be/manim-tutorial</a></center></td>\n",
    "    </tr>\n",
    "</table>"
   ]
  },
  {
   "cell_type": "code",
   "execution_count": null,
   "id": "ab1bf0f8",
   "metadata": {},
   "outputs": [],
   "source": []
  }
 ],
 "metadata": {
  "celltoolbar": "Diaporama",
  "kernelspec": {
   "display_name": "Python 3 (ipykernel)",
   "language": "python",
   "name": "python3"
  },
  "language_info": {
   "codemirror_mode": {
    "name": "ipython",
    "version": 3
   },
   "file_extension": ".py",
   "mimetype": "text/x-python",
   "name": "python",
   "nbconvert_exporter": "python",
   "pygments_lexer": "ipython3",
   "version": "3.10.4"
  }
 },
 "nbformat": 4,
 "nbformat_minor": 5
}
