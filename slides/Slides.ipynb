{
 "cells": [
  {
   "cell_type": "markdown",
   "id": "447d6930",
   "metadata": {
    "slideshow": {
     "slide_type": "slide"
    }
   },
   "source": [
    "![Alt](images/logo.png)\n",
    "\n",
    "<center>\n",
    "    Olivier Leblanc and Jérome Eertmans\n",
    "</center>"
   ]
  },
  {
   "cell_type": "code",
   "execution_count": null,
   "id": "56296b93",
   "metadata": {
    "slideshow": {
     "slide_type": "skip"
    }
   },
   "outputs": [],
   "source": [
    "from manim import *"
   ]
  },
  {
   "cell_type": "code",
   "execution_count": null,
   "id": "b21dc013",
   "metadata": {
    "slideshow": {
     "slide_type": "slide"
    }
   },
   "outputs": [],
   "source": [
    "class ManimSlidesLogo(Scene):\n",
    "    def construct(self):\n",
    "        tex_template = TexTemplate()\n",
    "        tex_template.add_to_preamble(r\"\\usepackage{fontawesome5}\")\n",
    "        self.camera.background_color = \"#ffffff\"\n",
    "        logo_green = \"#87c2a5\"\n",
    "        logo_blue = \"#525893\"\n",
    "        logo_red = \"#e07a5f\"\n",
    "        logo_black = \"#343434\"\n",
    "        ds_m = MathTex(r\"\\mathbb{M}\", fill_color=logo_black).scale(7)\n",
    "        ds_m.shift(2.25 * LEFT + 1.5 * UP)\n",
    "        slides = MathTex(r\"\\mathbb{S}\\text{lides}\", fill_color=logo_black).scale(4)\n",
    "        slides.next_to(ds_m, DOWN)\n",
    "        slides.shift(DOWN)\n",
    "        book = Tex(\n",
    "            r\"\\faStepBackward\\faStepForward\",\n",
    "            fill_color=logo_black,\n",
    "            tex_template=tex_template,\n",
    "        ).scale(4)\n",
    "        book.next_to(ds_m, LEFT)\n",
    "        book.shift(LEFT + 0.5 * DOWN)\n",
    "        circle = Circle(color=logo_green, fill_opacity=1).shift(LEFT)\n",
    "        square = Square(color=logo_blue, fill_opacity=1).shift(UP)\n",
    "        triangle = Triangle(color=logo_red, fill_opacity=1).shift(RIGHT)\n",
    "        logo = VGroup(triangle, square, circle, ds_m, slides, book)  # order matters\n",
    "        logo.move_to(ORIGIN)\n",
    "        self.add(logo)"
   ]
  },
  {
   "cell_type": "code",
   "execution_count": null,
   "id": "b5eda314",
   "metadata": {
    "slideshow": {
     "slide_type": "slide"
    }
   },
   "outputs": [],
   "source": [
    "%manim -qh -v WARNING -s --format=png ManimSlidesLogo"
   ]
  },
  {
   "cell_type": "markdown",
   "id": "6e320c1d",
   "metadata": {},
   "source": [
    "Some text"
   ]
  }
 ],
 "metadata": {
  "celltoolbar": "Diaporama",
  "kernelspec": {
   "display_name": "manim",
   "language": "python",
   "name": "manim"
  },
  "language_info": {
   "codemirror_mode": {
    "name": "ipython",
    "version": 3
   },
   "file_extension": ".py",
   "mimetype": "text/x-python",
   "name": "python",
   "nbconvert_exporter": "python",
   "pygments_lexer": "ipython3",
   "version": "3.10.4"
  }
 },
 "nbformat": 4,
 "nbformat_minor": 5
}
